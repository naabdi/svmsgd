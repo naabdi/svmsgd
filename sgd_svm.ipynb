{
 "cells": [
  {
   "cell_type": "markdown",
   "metadata": {},
   "source": [
    "# Soft margin algorithm with SGD\n",
    "\n",
    "This algorithm is based on **Understanding Machine Learning** book by Shai Ben-David and Shai Shalev-Shwartz"
   ]
  },
  {
   "cell_type": "code",
   "execution_count": 118,
   "metadata": {
    "scrolled": false
   },
   "outputs": [
    {
     "data": {
      "image/png": "[encoded data removed]",
      "text/plain": [
       "<Figure size 720x720 with 1 Axes>"
      ]
     },
     "metadata": {
      "needs_background": "light"
     },
     "output_type": "display_data"
    }
   ],
   "source": [
    "import numpy as np\n",
    "import matplotlib.pyplot as plt\n",
    "from IPython.display import Markdown as md\n",
    "\n",
    "\n",
    "TrainData = np.array([[1,1],[0,2],[0,-1],[-1,1],[-2,1],[-3,0],[3,0],[2,0],[2,-1],[3,1],[4,1],[4,2]])# Trainig Data\n",
    "labels = np.array([[1,1,1,1,1,1,-1,-1,-1,-1,-1,-1]])# Labels\n",
    "TestData = np.array([[1,2],[-1,-1],[3,2],[4,0]])# Testing Data\n",
    "labelsTest = np.array([[1,1,-1,-1]])# Testing Labels\n",
    "W = [];B = []\n",
    "w = np.zeros((1,2))# Weight Matrix\n",
    "b = 0# Bias Scalar\n",
    "#landa = np.sqrt(2/(1600*len(TrainData)))\n",
    "landa = 0.01# The lambda factor in reference algorithm\n",
    "epoches = 10000 # The number of iteration\n",
    "\n",
    "for t in range(1,epoches+1):\n",
    "    samp = np.random.randint(len(TrainData))\n",
    "    if labels[0,samp]*(w@TrainData[samp,:].T+b) < 1:\n",
    "        w = (1-1/t)*w+(1/(landa*t))*labels[0,samp]*TrainData[samp,:].T\n",
    "        b = b +(1/(landa*t))*labels[0,samp]\n",
    "    else:\n",
    "        w = (1-1/t)*w\n",
    "    B.append(b)\n",
    "    W.append(w)\n",
    "\n",
    "w_hat = np.array(W).sum(axis = 0)/(epoches)\n",
    "b_hat = np.array(B).sum(axis = 0)/(epoches)\n",
    "\n",
    "h = np.sign((w_hat)@TestData.T + b_hat)\n",
    "\n",
    "error = np.sum((h != labelsTest).astype('int'))/4\n",
    "\n",
    "x = np.linspace(-4,4,100)\n",
    "y = -(w_hat[0,0]/w_hat[0,1])*x - b_hat/w_hat[0,1]\n",
    "plt.figure(figsize=(10,10))\n",
    "plt.ylim(top=3,bottom=-2)\n",
    "plt.scatter(TrainData[0:6,0],TrainData[0:6,1],Linewidth=4)\n",
    "plt.scatter(TrainData[7:12,0],TrainData[7:12,1],Linewidth=4)\n",
    "#plt.grid()\n",
    "plt.plot(x,y,'--',color = 'green')\n",
    "plt.legend(['Positive Instances','Negative instances','Decision Boundry'])\n",
    "plt.show()"
   ]
  },
  {
   "cell_type": "code",
   "execution_count": 119,
   "metadata": {},
   "outputs": [
    {
     "data": {
      "text/markdown": [
       "$w_0 = -14.864268$"
      ],
      "text/plain": [
       "<IPython.core.display.Markdown object>"
      ]
     },
     "execution_count": 119,
     "metadata": {},
     "output_type": "execute_result"
    }
   ],
   "source": [
    "md(\"$w_0 = %f$\"%(w_hat[0,0]))\n"
   ]
  },
  {
   "cell_type": "code",
   "execution_count": 120,
   "metadata": {},
   "outputs": [
    {
     "data": {
      "text/markdown": [
       "$w_1 = 0.732642$ "
      ],
      "text/plain": [
       "<IPython.core.display.Markdown object>"
      ]
     },
     "execution_count": 120,
     "metadata": {},
     "output_type": "execute_result"
    }
   ],
   "source": [
    "md(\"$w_1 = %f$ \"%(w_hat[0,1]))"
   ]
  },
  {
   "cell_type": "code",
   "execution_count": 121,
   "metadata": {},
   "outputs": [
    {
     "data": {
      "text/markdown": [
       "$Bias = 22.951067$ "
      ],
      "text/plain": [
       "<IPython.core.display.Markdown object>"
      ]
     },
     "execution_count": 121,
     "metadata": {},
     "output_type": "execute_result"
    }
   ],
   "source": [
    "md(\"$Bias = %f$ \"%(b))"
   ]
  },
  {
   "cell_type": "code",
   "execution_count": 122,
   "metadata": {},
   "outputs": [
    {
     "data": {
      "text/markdown": [
       "$error \\,  rate = 0.000000\\% $ "
      ],
      "text/plain": [
       "<IPython.core.display.Markdown object>"
      ]
     },
     "execution_count": 122,
     "metadata": {},
     "output_type": "execute_result"
    }
   ],
   "source": [
    "md(\"$error \\,  rate = %f\\%% $ \"%(error*100))"
   ]
  }
 ],
 "metadata": {
  "kernelspec": {
   "display_name": "Python 3",
   "language": "python",
   "name": "python3"
  },
  "language_info": {
   "codemirror_mode": {
    "name": "ipython",
    "version": 3
   },
   "file_extension": ".py",
   "mimetype": "text/x-python",
   "name": "python",
   "nbconvert_exporter": "python",
   "pygments_lexer": "ipython3",
   "version": "3.7.4"
  }
 },
 "nbformat": 4,
 "nbformat_minor": 2
}
